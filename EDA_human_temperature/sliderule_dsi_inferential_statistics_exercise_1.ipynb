{
 "cells": [
  {
   "cell_type": "markdown",
   "metadata": {},
   "source": [
    "# What is the True Normal Human Body Temperature? \n",
    "\n",
    "#### Background\n",
    "\n",
    "The mean normal body temperature was held to be 37$^{\\circ}$C or 98.6$^{\\circ}$F for more than 120 years since it was first conceptualized and reported by Carl Wunderlich in a famous 1868 book. But, is this value statistically correct?"
   ]
  },
  {
   "cell_type": "markdown",
   "metadata": {},
   "source": [
    "<h3>Exercises</h3>\n",
    "\n",
    "<p>In this exercise, you will analyze a dataset of human body temperatures and employ the concepts of hypothesis testing, confidence intervals, and statistical significance.</p>\n",
    "\n",
    "<p>Answer the following questions <b>in this notebook below and submit to your Github account</b>.</p> \n",
    "\n",
    "<ol>\n",
    "<li>  Is the distribution of body temperatures normal? \n",
    "    <ul>\n",
    "    <li> Although this is not a requirement for the Central Limit Theorem to hold (read the introduction on Wikipedia's page about the CLT carefully: https://en.wikipedia.org/wiki/Central_limit_theorem), it gives us some peace of mind that the population may also be normally distributed if we assume that this sample is representative of the population.\n",
    "    <li> Think about the way you're going to check for the normality of the distribution. Graphical methods are usually used first, but there are also other ways: https://en.wikipedia.org/wiki/Normality_test\n",
    "    </ul>\n",
    "<li>  Is the sample size large? Are the observations independent?\n",
    "    <ul>\n",
    "    <li> Remember that this is a condition for the Central Limit Theorem, and hence the statistical tests we are using, to apply.\n",
    "    </ul>\n",
    "<li>  Is the true population mean really 98.6 degrees F?\n",
    "    <ul>\n",
    "    <li> First, try a bootstrap hypothesis test.\n",
    "    <li> Now, let's try frequentist statistical testing. Would you use a one-sample or two-sample test? Why?\n",
    "    <li> In this situation, is it appropriate to use the $t$ or $z$ statistic? \n",
    "    <li> Now try using the other test. How is the result be different? Why?\n",
    "    </ul>\n",
    "<li>  Draw a small sample of size 10 from the data and repeat both frequentist tests. \n",
    "    <ul>\n",
    "    <li> Which one is the correct one to use? \n",
    "    <li> What do you notice? What does this tell you about the difference in application of the $t$ and $z$ statistic?\n",
    "    </ul>\n",
    "<li>  At what temperature should we consider someone's temperature to be \"abnormal\"?\n",
    "    <ul>\n",
    "    <li> As in the previous example, try calculating everything using the boostrap approach, as well as the frequentist approach.\n",
    "    <li> Start by computing the margin of error and confidence interval. When calculating the confidence interval, keep in mind that you should use the appropriate formula for one draw, and not N draws.\n",
    "    </ul>\n",
    "<li>  Is there a significant difference between males and females in normal temperature?\n",
    "    <ul>\n",
    "    <li> What testing approach did you use and why?\n",
    "    <li> Write a story with your conclusion in the context of the original problem.\n",
    "    </ul>\n",
    "</ol>\n",
    "\n",
    "You can include written notes in notebook cells using Markdown: \n",
    "   - In the control panel at the top, choose Cell > Cell Type > Markdown\n",
    "   - Markdown syntax: http://nestacms.com/docs/creating-content/markdown-cheat-sheet\n",
    "\n",
    "#### Resources\n",
    "\n",
    "+ Information and data sources: http://www.amstat.org/publications/jse/datasets/normtemp.txt, http://www.amstat.org/publications/jse/jse_data_archive.htm\n",
    "+ Markdown syntax: http://nestacms.com/docs/creating-content/markdown-cheat-sheet\n",
    "\n",
    "****"
   ]
  },
  {
   "cell_type": "markdown",
   "metadata": {},
   "source": [
    "## Importing libraries and the data"
   ]
  },
  {
   "cell_type": "code",
   "execution_count": 31,
   "metadata": {},
   "outputs": [
    {
     "data": {
      "text/html": [
       "<div>\n",
       "<style scoped>\n",
       "    .dataframe tbody tr th:only-of-type {\n",
       "        vertical-align: middle;\n",
       "    }\n",
       "\n",
       "    .dataframe tbody tr th {\n",
       "        vertical-align: top;\n",
       "    }\n",
       "\n",
       "    .dataframe thead th {\n",
       "        text-align: right;\n",
       "    }\n",
       "</style>\n",
       "<table border=\"1\" class=\"dataframe\">\n",
       "  <thead>\n",
       "    <tr style=\"text-align: right;\">\n",
       "      <th></th>\n",
       "      <th>temperature</th>\n",
       "      <th>gender</th>\n",
       "      <th>heart_rate</th>\n",
       "    </tr>\n",
       "  </thead>\n",
       "  <tbody>\n",
       "    <tr>\n",
       "      <th>0</th>\n",
       "      <td>99.3</td>\n",
       "      <td>F</td>\n",
       "      <td>68.0</td>\n",
       "    </tr>\n",
       "    <tr>\n",
       "      <th>1</th>\n",
       "      <td>98.4</td>\n",
       "      <td>F</td>\n",
       "      <td>81.0</td>\n",
       "    </tr>\n",
       "    <tr>\n",
       "      <th>2</th>\n",
       "      <td>97.8</td>\n",
       "      <td>M</td>\n",
       "      <td>73.0</td>\n",
       "    </tr>\n",
       "    <tr>\n",
       "      <th>3</th>\n",
       "      <td>99.2</td>\n",
       "      <td>F</td>\n",
       "      <td>66.0</td>\n",
       "    </tr>\n",
       "    <tr>\n",
       "      <th>4</th>\n",
       "      <td>98.0</td>\n",
       "      <td>F</td>\n",
       "      <td>73.0</td>\n",
       "    </tr>\n",
       "  </tbody>\n",
       "</table>\n",
       "</div>"
      ],
      "text/plain": [
       "   temperature gender  heart_rate\n",
       "0         99.3      F        68.0\n",
       "1         98.4      F        81.0\n",
       "2         97.8      M        73.0\n",
       "3         99.2      F        66.0\n",
       "4         98.0      F        73.0"
      ]
     },
     "execution_count": 31,
     "metadata": {},
     "output_type": "execute_result"
    }
   ],
   "source": [
    "import pandas as pd\n",
    "import numpy as np\n",
    "import matplotlib.pyplot as plt\n",
    "import seaborn as sns\n",
    "from scipy.stats import chisquare\n",
    "from scipy.stats import ttest_1samp\n",
    "from statsmodels.graphics.gofplots import qqplot\n",
    "\n",
    "%matplotlib inline\n",
    "\n",
    "#data: columns (temperature, gender, heart_rate)\n",
    "df = pd.read_csv('data/human_body_temperature.csv')\n",
    "\n",
    "df.head()"
   ]
  },
  {
   "cell_type": "code",
   "execution_count": 21,
   "metadata": {},
   "outputs": [
    {
     "name": "stdout",
     "output_type": "stream",
     "text": [
      "<class 'pandas.core.frame.DataFrame'>\n",
      "RangeIndex: 130 entries, 0 to 129\n",
      "Data columns (total 3 columns):\n",
      "temperature    130 non-null float64\n",
      "gender         130 non-null object\n",
      "heart_rate     130 non-null float64\n",
      "dtypes: float64(2), object(1)\n",
      "memory usage: 3.1+ KB\n"
     ]
    }
   ],
   "source": [
    "#Check for null entries\n",
    "df.info()"
   ]
  },
  {
   "cell_type": "markdown",
   "metadata": {},
   "source": [
    "## Functions"
   ]
  },
  {
   "cell_type": "code",
   "execution_count": 3,
   "metadata": {},
   "outputs": [],
   "source": [
    "#========================#\n",
    "# ecdf function\n",
    "#========================#\n",
    "\n",
    "def ecdf(data):\n",
    "    \"\"\"Compute ECDF for a one-dimensional array of measurements.\"\"\"\n",
    "    # Number of data points: n\n",
    "    n = len(data)\n",
    "\n",
    "    # x-data for the ECDF: x\n",
    "    x = np.sort(data)\n",
    "\n",
    "    # y-data for the ECDF: y\n",
    "    y = np.arange(1, n+1) / n\n",
    "\n",
    "    return x, y\n",
    "\n",
    "#========================#\n",
    "# pearson\n",
    "#========================#\n",
    "def pearson_r(x, y):\n",
    "    \"\"\"Compute Pearson correlation coefficient between two arrays.\"\"\"\n",
    "    # Compute correlation matrix: corr_mat\n",
    "    corr_mat = np.corrcoef(x, y)\n",
    "\n",
    "    # Return entry [0,1]\n",
    "    return corr_mat[0,1]\n",
    "\n",
    "\n",
    "#========================#\n",
    "# generate bs replicates\n",
    "#========================#\n",
    "def gen_bs_reps(data, func, size=1):\n",
    "    \"\"\"Generate bootstrap replicates.\"\"\"\n",
    "\n",
    "    # Initialize array of replicates: bs_replicates\n",
    "    bs_replicates = np.empty(size)\n",
    "\n",
    "    # Generate replicates\n",
    "    for i in range(size):\n",
    "        bs_replicates[i] = func(np.random.choice(data, len(data)))\n",
    "\n",
    "    return bs_replicates\n"
   ]
  },
  {
   "cell_type": "markdown",
   "metadata": {
    "collapsed": true
   },
   "source": [
    "## QUESTION 1: Is the distribution of body temperatures normal?\n",
    "Conclusion: comparing our data with the theoretical normal distribution shows that our data is normally distibuted."
   ]
  },
  {
   "cell_type": "code",
   "execution_count": 4,
   "metadata": {},
   "outputs": [
    {
     "data": {
      "image/png": "[encoded data removed]",
      "text/plain": [
       "<Figure size 432x288 with 1 Axes>"
      ]
     },
     "metadata": {
      "needs_background": "light"
     },
     "output_type": "display_data"
    }
   ],
   "source": [
    "#assign the column of interest to the variable t\n",
    "t = df.temperature\n",
    "\n",
    "# Compute mean and standard deviation of our body temperature data: mu, sigma\n",
    "mu = np.mean(t)\n",
    "sigma = np.std(t)\n",
    "\n",
    "# Sample out of a normal distribution with this mu and sigma: samples\n",
    "samples = np.random.normal(mu, sigma, 10000)\n",
    "\n",
    "# Get the CDF of the samples and of the data\n",
    "x_theor, y_theor = ecdf(samples)\n",
    "x, y = ecdf(t)\n",
    "\n",
    "# Plot the theorectical CDF of a normal distribution and our data\n",
    "_ = plt.plot(x_theor, y_theor)\n",
    "_ = plt.plot(x, y, marker='.', linestyle='none')\n",
    "_ = plt.xlabel('Fahrenheit Body Temperatures')\n",
    "_ = plt.ylabel('CDF')\n",
    "_ = plt.legend(('Normal Distribution', 'Actual Data'))\n",
    "\n",
    "plt.show()"
   ]
  },
  {
   "cell_type": "code",
   "execution_count": 9,
   "metadata": {},
   "outputs": [
    {
     "data": {
      "image/png": "[encoded data removed]",
      "text/plain": [
       "<Figure size 432x288 with 1 Axes>"
      ]
     },
     "metadata": {},
     "output_type": "display_data"
    }
   ],
   "source": [
    "#default style\n",
    "sns.set()\n",
    "\n",
    "# Number of bins is the square root of number of data points: n_bins\n",
    "n_bins = np.sqrt(len(t))\n",
    "\n",
    "# Convert number of bins to integer: n_bins\n",
    "n_bins = int(n_bins)\n",
    "\n",
    "# drawing the plot\n",
    "plt.hist(t, bins=n_bins, density=True)\n",
    "plt.hist(samples, bins=n_bins, density=True, histtype=\"step\")\n",
    "\n",
    "_ = plt.legend(('Normal Distribution', 'Actual Data'))\n",
    "plt.xlabel(\"Fahrenheit Body Temperatures\")\n",
    "plt.ylabel(\"Percentage\")\n",
    "plt.show()"
   ]
  },
  {
   "cell_type": "code",
   "execution_count": 6,
   "metadata": {},
   "outputs": [
    {
     "data": {
      "image/png": "[encoded data removed]",
      "text/plain": [
       "<Figure size 432x288 with 1 Axes>"
      ]
     },
     "metadata": {
      "needs_background": "light"
     },
     "output_type": "display_data"
    }
   ],
   "source": [
    "#QQ Plot (s is for standardized line)\n",
    "_ = qqplot(t, line='s')"
   ]
  },
  {
   "cell_type": "markdown",
   "metadata": {},
   "source": [
    "## Question 2\n",
    "Is the sample size large? Are the observations independent?\n",
    "Remember that this is a condition for the Central Limit Theorem, and hence the statistical tests we are using, to apply.\n",
    "\n",
    "## Answer\n",
    "n = 130,    x-hat ~ 98.25,   std of x ~ .73,   α = 0.05\n",
    "\n",
    "— n is 130. When sampling with 30 samples at a time (or more) we are left with a very well established normal distribution which is great for a z-test.\n",
    "\n",
    "— Observations are independent as one person's temperature won't affect the temperature of someone else. Plus, n = 130 is less than 10 percent of the world population."
   ]
  },
  {
   "cell_type": "markdown",
   "metadata": {},
   "source": [
    "## Question 3\n",
    "Is the true population mean really 98.6 degrees F?\n",
    "First, try a bootstrap hypothesis test.\n",
    "Now, let's try frequentist statistical testing. Would you use a one-sample or two-sample test? Why?\n",
    "In this situation, is it appropriate to use the  𝑡  or  𝑧  statistic?\n",
    "Now try using the other test. How is the result be different? Why?"
   ]
  },
  {
   "cell_type": "code",
   "execution_count": 11,
   "metadata": {},
   "outputs": [
    {
     "data": {
      "text/plain": [
       "array([ 97.5,  99. ,  98.3,  98.8,  97.7,  99. ,  98.8,  98.8,  98.5,\n",
       "        97.8,  98.8,  98.4,  97.8,  96.7,  98.4,  98. ,  98.2,  98.6,\n",
       "        99.3,  97.8,  97.7,  99. ,  98.7,  97.1,  97.8,  99.1,  97.7,\n",
       "        97.2,  98. ,  98.6,  98.2,  97.8,  97.3,  98.6,  98.4,  99.2,\n",
       "        99.3,  97.1,  98.4,  98. ,  98. ,  97.6,  98. ,  97.4,  97.6,\n",
       "        98. ,  99.1,  97.8,  97.6,  98.6,  97.9,  98.6,  98.2,  98.9,\n",
       "        99.1,  99.5,  98.3,  98. , 100. ,  99.2,  99.2,  98. ,  98.3,\n",
       "        98.1,  97.8,  99.1,  98.6,  98.8,  97.6,  96.7,  97.4,  98. ,\n",
       "        97.9,  98. ,  98.7,  99.1,  98.4,  97.9,  99. ,  98.2, 100.8,\n",
       "        97.6,  98.4,  99.4,  97.8,  98.1,  99. ,  97.9,  97.8,  97.1,\n",
       "        98.9,  98.4,  98. ,  98. ,  98.2,  97.8,  98.7,  98.3,  98. ,\n",
       "        96.8,  97.6,  98.9,  99. ,  98.7,  97.6,  97.6,  99.9,  98. ,\n",
       "        98. ,  97.8,  99.4,  98. ,  98. ,  98.3,  98.9,  99.9,  97.8,\n",
       "        98.8,  97.5,  98.5,  98.1,  96.8,  97.2,  98.3,  97.9,  98. ,\n",
       "        98.6,  97.9,  97.2,  97.1])"
      ]
     },
     "execution_count": 11,
     "metadata": {},
     "output_type": "execute_result"
    }
   ],
   "source": [
    "# random seed\n",
    "np.random.seed(13)\n",
    "\n",
    "# one bootstrap sample\n",
    "bs_sample = np.random.choice(t, len(t))\n",
    "bs_sample"
   ]
  },
  {
   "cell_type": "code",
   "execution_count": 12,
   "metadata": {},
   "outputs": [
    {
     "data": {
      "image/png": "[encoded data removed]",
      "text/plain": [
       "<Figure size 432x288 with 1 Axes>"
      ]
     },
     "metadata": {},
     "output_type": "display_data"
    }
   ],
   "source": [
    "#generate 1,000,000 bs replicates of the mean and plot the ecdf\n",
    "bs_mean = gen_bs_reps(t, np.mean, 1000000)\n",
    "bs_x, bs_y = ecdf(bs_mean)\n",
    "plt.plot(bs_x, bs_y, marker=\".\", linestyle=\"none\")\n",
    "plt.xlabel(\"Human Body Temps (1,000,0000 bootstrap samples)\")\n",
    "plt.ylabel(\"ecdf\")\n",
    "plt.show()"
   ]
  },
  {
   "cell_type": "code",
   "execution_count": 14,
   "metadata": {},
   "outputs": [
    {
     "data": {
      "image/png": "[encoded data removed]",
      "text/plain": [
       "<Figure size 432x288 with 1 Axes>"
      ]
     },
     "metadata": {},
     "output_type": "display_data"
    }
   ],
   "source": [
    "sns.set()\n",
    "\n",
    "# Number of bins is the square root of number of data points: n_bins\n",
    "n_bins = np.sqrt(len(bs_mean))\n",
    "\n",
    "# Convert number of bins to integer: n_bins\n",
    "n_bins = int(n_bins)\n",
    "\n",
    "# drawing the plot\n",
    "plt.hist(bs_mean, bins=n_bins, density=True)\n",
    "_ = plt.axvline(mu) #mu is the original mean\n",
    "_ = plt.axvline(98.6)\n",
    "_ = plt.axvline(np.percentile(bs_mean, 99.5), alpha = .25)\n",
    "_ = plt.axvline(np.percentile(bs_mean, .5), alpha = .25)\n",
    "\n",
    "\n",
    "plt.xlabel(\"1,000,000 bootstrap samples of mean human body temp in F\")\n",
    "plt.ylabel(\"What label should go here?\")\n",
    "plt.show()"
   ]
  },
  {
   "cell_type": "code",
   "execution_count": 15,
   "metadata": {},
   "outputs": [
    {
     "name": "stdout",
     "output_type": "stream",
     "text": [
      "BS rep mean:    98.24927968999997\n",
      "BS Standard Dev: 0.0640459399025492\n",
      "95% CI:        [98.12384615 98.37461538]\n",
      "99% CI:        [98.08384615 98.41461538]\n",
      "Original mean:  98.24923076923075\n",
      "Original data with temp over 98.6: 0.3\n",
      "p-value for 1 million BS replicates with body temp >= 98.6: 0.0\n"
     ]
    }
   ],
   "source": [
    "# The mean of our bootstrap replicates\n",
    "print(\"BS rep mean:   \", np.mean(bs_mean))\n",
    "print(\"BS Standard Dev:\", np.std(bs_mean))\n",
    "\n",
    "#95% confidence interval of our bootstrap-means\n",
    "print(\"95% CI:       \", np.percentile(bs_mean, [2.5, 97.5]))\n",
    "\n",
    "# 99% confidence interval of our bs mean replicates\n",
    "print(\"99% CI:       \", np.percentile(bs_mean, [.5, 99.5]))\n",
    "\n",
    "# the mean of our original data is ~ 98.25\n",
    "print(\"Original mean: \", mu)\n",
    "# 30% of people in the original data had a temp over 98.6\n",
    "print(\"Original data with temp over 98.6:\", np.sum(t > 98.6) / len(t))\n",
    "\n",
    "# p value for getting a temperature above 98.6 from our bs replicates\n",
    "# even 1 million bootstrap samples did not generate a replicate with a mean aboove 98.6\n",
    "p = np.sum(bs_mean >= 98.6) / len(bs_mean)\n",
    "print(\"p-value for 1 million BS replicates with body temp >= 98.6:\", p)"
   ]
  },
  {
   "cell_type": "markdown",
   "metadata": {},
   "source": [
    "## Maybe that's all irrelevant and I should just do the hypothesis test?\n",
    "Ho = The true mean is 98.6 degrees F"
   ]
  },
  {
   "cell_type": "code",
   "execution_count": 10,
   "metadata": {},
   "outputs": [
    {
     "data": {
      "text/plain": [
       "98.60000000000001"
      ]
     },
     "execution_count": 10,
     "metadata": {},
     "output_type": "execute_result"
    }
   ],
   "source": [
    "#shifting the original data to have a mean of 98.6 degrees F\n",
    "shifted_temps = t - np.mean(t) + 98.6\n",
    "\n",
    "#checking the new mean\n",
    "np.mean(shifted_temps)"
   ]
  },
  {
   "cell_type": "code",
   "execution_count": 11,
   "metadata": {},
   "outputs": [
    {
     "data": {
      "image/png": "[encoded data removed]",
      "text/plain": [
       "<Figure size 432x288 with 1 Axes>"
      ]
     },
     "metadata": {
      "needs_background": "light"
     },
     "output_type": "display_data"
    }
   ],
   "source": [
    "#generate 100,000 bs replicates of the mean and plot the ecdf\n",
    "bs_shifted = gen_bs_reps(shifted_temps, np.mean, 100000)\n",
    "bs_xs, bs_ys = ecdf(bs_shifted)\n",
    "plt.plot(bs_xs, bs_ys, marker=\".\", linestyle=\"none\")\n",
    "plt.xlabel(\"Shifted Human Body Temps (100,0000 bootstrap samples)\")\n",
    "plt.ylabel(\"ecdf\")\n",
    "plt.show()"
   ]
  },
  {
   "cell_type": "code",
   "execution_count": 15,
   "metadata": {},
   "outputs": [
    {
     "data": {
      "image/png": "[encoded data removed]",
      "text/plain": [
       "<Figure size 432x288 with 1 Axes>"
      ]
     },
     "metadata": {
      "needs_background": "light"
     },
     "output_type": "display_data"
    }
   ],
   "source": [
    "# Number of bins is the square root of number of data points: n_bins\n",
    "n_bins = np.sqrt(len(bs_shifted))\n",
    "\n",
    "# Convert number of bins to integer: n_bins\n",
    "n_bins = int(n_bins)\n",
    "\n",
    "# drawing the plot\n",
    "plt.hist(bs_shifted, bins=n_bins, density=True)\n",
    "_ = plt.axvline(mu, c=\"orange\") #mu is the original mean\n",
    "_ = plt.axvline(np.mean(bs_shifted), c=\"orange\")\n",
    "_ = plt.axvline(np.percentile(bs_shifted, 99.5), alpha = .25)\n",
    "_ = plt.axvline(np.percentile(bs_shifted, .5), alpha = .25)\n",
    "\n",
    "plt.xlabel(\"100,000 bootstrap samples of shifted mean human body temp in F\")\n",
    "plt.ylabel(\"What label should go here?\")\n",
    "plt.show()"
   ]
  },
  {
   "cell_type": "code",
   "execution_count": 29,
   "metadata": {},
   "outputs": [
    {
     "name": "stdout",
     "output_type": "stream",
     "text": [
      "99% confidence interval [98.43384615 98.76461538]\n",
      "The p-value for our 100,000 replicates is 0.0\n"
     ]
    }
   ],
   "source": [
    "#calculate the 99% CI\n",
    "print(\"99% confidence interval\", np.percentile(bs_shifted, [.5, 99.5]))\n",
    "\n",
    "#calculate the p value\n",
    "p = np.sum(bs_shifted <= mu)/ len(bs_shifted)\n",
    "print(\"The p-value for our 100,000 replicates is\", p)"
   ]
  },
  {
   "cell_type": "markdown",
   "metadata": {},
   "source": [
    "## Conclusion of bootstrap hypothesis test\n",
    "The bootstrap sample distribution for the means of the shifted data (with mean shifted to 98.6) is not likely include the original mean of 98.2 degrees.\n",
    "\n",
    "We reject Ho that the true population mean is 98.6 degrees.\n",
    "\n",
    "## Question 3 continued\n",
    "Now, let's try frequentist statistical testing. Would you use a one-sample or two-sample test? Why?\n",
    "In this situation, is it appropriate to use the  𝑡  or  𝑧  statistic?\n",
    "Now try using the other test. How is the result be different? Why?"
   ]
  },
  {
   "cell_type": "markdown",
   "metadata": {},
   "source": [
    "* What's frequentist statistical testing?\n",
    "* One sample testing should be used, because we are comparing a sample mean with a hypothetically known mean.\n",
    "* When a t-test is used on larger samples, it becomes very similar to a z-test.\n"
   ]
  },
  {
   "cell_type": "code",
   "execution_count": 34,
   "metadata": {},
   "outputs": [
    {
     "data": {
      "text/plain": [
       "Ttest_1sampResult(statistic=-5.4548232923645195, pvalue=2.4106320415561276e-07)"
      ]
     },
     "execution_count": 34,
     "metadata": {},
     "output_type": "execute_result"
    }
   ],
   "source": [
    "# t-test: original temps vs a mean of 98.6\n",
    "ttest_1samp(t, 98.6)"
   ]
  },
  {
   "cell_type": "code",
   "execution_count": 35,
   "metadata": {},
   "outputs": [
    {
     "data": {
      "text/plain": [
       "Ttest_1sampResult(statistic=5.454823292364741, pvalue=2.410632041553703e-07)"
      ]
     },
     "execution_count": 35,
     "metadata": {},
     "output_type": "execute_result"
    }
   ],
   "source": [
    "# t-test: shifted temps (with mean of 98.6) vs original mean (98.2)\n",
    "ttest_1samp(shifted_temps, mu)"
   ]
  },
  {
   "cell_type": "code",
   "execution_count": 36,
   "metadata": {},
   "outputs": [
    {
     "data": {
      "text/plain": [
       "Ttest_1sampResult(statistic=0.0, pvalue=1.0)"
      ]
     },
     "execution_count": 36,
     "metadata": {},
     "output_type": "execute_result"
    }
   ],
   "source": [
    "# t-test: original temps vs original mean\n",
    "ttest_1samp(t, mu)"
   ]
  },
  {
   "cell_type": "code",
   "execution_count": null,
   "metadata": {},
   "outputs": [],
   "source": []
  },
  {
   "cell_type": "code",
   "execution_count": null,
   "metadata": {},
   "outputs": [],
   "source": []
  },
  {
   "cell_type": "code",
   "execution_count": null,
   "metadata": {},
   "outputs": [],
   "source": []
  },
  {
   "cell_type": "code",
   "execution_count": null,
   "metadata": {},
   "outputs": [],
   "source": []
  },
  {
   "cell_type": "code",
   "execution_count": null,
   "metadata": {},
   "outputs": [],
   "source": []
  },
  {
   "cell_type": "markdown",
   "metadata": {},
   "source": [
    "## Question 4\n",
    "Draw a small sample of size 10 from the data and repeat both frequentist tests.\n",
    "Which one is the correct one to use?\n",
    "What do you notice? What does this tell you about the difference in application of the  𝑡  and  𝑧  statistic?"
   ]
  },
  {
   "cell_type": "code",
   "execution_count": null,
   "metadata": {},
   "outputs": [],
   "source": []
  },
  {
   "cell_type": "code",
   "execution_count": null,
   "metadata": {},
   "outputs": [],
   "source": []
  },
  {
   "cell_type": "code",
   "execution_count": null,
   "metadata": {},
   "outputs": [],
   "source": []
  },
  {
   "cell_type": "markdown",
   "metadata": {},
   "source": [
    "## Question 5\n",
    "At what temperature should we consider someone's temperature to be \"abnormal\"?\n",
    "As in the previous example, try calculating everything using the boostrap approach, as well as the frequentist approach.\n",
    "Start by computing the margin of error and confidence interval. When calculating the confidence interval, keep in mind that you should use the appropriate formula for one draw, and not N draws."
   ]
  },
  {
   "cell_type": "code",
   "execution_count": null,
   "metadata": {},
   "outputs": [],
   "source": []
  },
  {
   "cell_type": "markdown",
   "metadata": {},
   "source": [
    "## Question 6\n",
    "Is there a significant difference between males and females in normal temperature?\n",
    "What testing approach did you use and why?\n",
    "Write a story with your conclusion in the context of the original problem."
   ]
  },
  {
   "cell_type": "code",
   "execution_count": null,
   "metadata": {},
   "outputs": [],
   "source": []
  },
  {
   "cell_type": "code",
   "execution_count": null,
   "metadata": {},
   "outputs": [],
   "source": []
  }
 ],
 "metadata": {
  "kernelspec": {
   "display_name": "Python 3",
   "language": "python",
   "name": "python3"
  },
  "language_info": {
   "codemirror_mode": {
    "name": "ipython",
    "version": 3
   },
   "file_extension": ".py",
   "mimetype": "text/x-python",
   "name": "python",
   "nbconvert_exporter": "python",
   "pygments_lexer": "ipython3",
   "version": "3.7.2"
  }
 },
 "nbformat": 4,
 "nbformat_minor": 1
}
